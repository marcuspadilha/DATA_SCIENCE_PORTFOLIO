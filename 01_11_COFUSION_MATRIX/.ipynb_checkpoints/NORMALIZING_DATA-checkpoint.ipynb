{
 "cells": [
  {
   "cell_type": "markdown",
   "id": "437cc5e5",
   "metadata": {},
   "source": [
    "### MinMaxScaler"
   ]
  },
  {
   "cell_type": "code",
   "execution_count": 7,
   "id": "6a1cddd2",
   "metadata": {},
   "outputs": [
    {
     "name": "stdout",
     "output_type": "stream",
     "text": [
      "[[4, 1, 2, 2], [1, 3, 9, 3], [5, 7, 5, 1]]\n",
      "\n",
      "[[0.75       0.         0.         0.5       ]\n",
      " [0.         0.33333333 1.         1.        ]\n",
      " [1.         1.         0.42857143 0.        ]]\n"
     ]
    }
   ],
   "source": [
    "from sklearn.preprocessing import MinMaxScaler\n",
    "x = [[4, 1, 2, 2], [1, 3, 9, 3], [5, 7, 5, 1]]\n",
    "normalizer = MinMaxScaler(feature_range = (0, 1))\n",
    "print(x)\n",
    "print()\n",
    "print(normalizer.fit_transform(x))"
   ]
  },
  {
   "cell_type": "markdown",
   "id": "568aacf2",
   "metadata": {},
   "source": [
    "### StandardScaler"
   ]
  },
  {
   "cell_type": "code",
   "execution_count": 8,
   "id": "65d4741a",
   "metadata": {},
   "outputs": [
    {
     "name": "stdout",
     "output_type": "stream",
     "text": [
      "[[4, 1, 2, 2], [1, 3, 9, 3], [5, 7, 5, 1]]\n",
      "\n",
      "[[ 0.39223227 -1.06904497 -1.16247639  0.        ]\n",
      " [-1.37281295 -0.26726124  1.27872403  1.22474487]\n",
      " [ 0.98058068  1.33630621 -0.11624764 -1.22474487]]\n"
     ]
    }
   ],
   "source": [
    "from sklearn.preprocessing import StandardScaler\n",
    "x = [[4, 1, 2, 2], [1, 3, 9, 3], [5, 7, 5, 1]]\n",
    "normalizer = StandardScaler()\n",
    "print(x)\n",
    "print()\n",
    "print(normalizer.fit_transform(x))"
   ]
  },
  {
   "cell_type": "markdown",
   "id": "5aed661c",
   "metadata": {},
   "source": [
    "### MaxAbsScaler"
   ]
  },
  {
   "cell_type": "code",
   "execution_count": 9,
   "id": "f9c68e36",
   "metadata": {},
   "outputs": [
    {
     "name": "stdout",
     "output_type": "stream",
     "text": [
      "[[4, 1, 2, 2], [1, 3, 9, 3], [5, 7, 5, 1]]\n",
      "\n",
      "[[0.8        0.14285714 0.22222222 0.66666667]\n",
      " [0.2        0.42857143 1.         1.        ]\n",
      " [1.         1.         0.55555556 0.33333333]]\n"
     ]
    }
   ],
   "source": [
    "from sklearn.preprocessing import MaxAbsScaler\n",
    "x = [[4, 1, 2, 2], [1, 3, 9, 3], [5, 7, 5, 1]]\n",
    "normalizer = MaxAbsScaler()\n",
    "print(x)\n",
    "print()\n",
    "print(normalizer.fit_transform(x))"
   ]
  },
  {
   "cell_type": "markdown",
   "id": "fb2bd06e",
   "metadata": {},
   "source": [
    "### Normalize"
   ]
  },
  {
   "cell_type": "markdown",
   "id": "036fff69",
   "metadata": {},
   "source": [
    "#### Max"
   ]
  },
  {
   "cell_type": "code",
   "execution_count": 19,
   "id": "fe63fa64",
   "metadata": {},
   "outputs": [
    {
     "name": "stdout",
     "output_type": "stream",
     "text": [
      "[[4, 1, 2, 2], [1, 3, 9, 3], [5, 7, 5, 1]]\n",
      "\n",
      "[[0.8        0.14285714 0.22222222 0.66666667]\n",
      " [0.2        0.42857143 1.         1.        ]\n",
      " [1.         1.         0.55555556 0.33333333]]\n"
     ]
    }
   ],
   "source": [
    "from sklearn.preprocessing import normalize\n",
    "x = [[4, 1, 2, 2], [1, 3, 9, 3], [5, 7, 5, 1]]\n",
    "normalizer = normalize(x, norm = 'max', axis = 0)\n",
    "print(x)\n",
    "print()\n",
    "print(normalizer)"
   ]
  },
  {
   "cell_type": "markdown",
   "id": "cce78814",
   "metadata": {},
   "source": [
    "#### L1"
   ]
  },
  {
   "cell_type": "code",
   "execution_count": 16,
   "id": "b10f10da",
   "metadata": {},
   "outputs": [
    {
     "name": "stdout",
     "output_type": "stream",
     "text": [
      "[[4, 1, 2, 2], [1, 3, 9, 3], [5, 7, 5, 1]]\n",
      "\n",
      "[[0.44444444 0.11111111 0.22222222 0.22222222]\n",
      " [0.0625     0.1875     0.5625     0.1875    ]\n",
      " [0.27777778 0.38888889 0.27777778 0.05555556]]\n"
     ]
    }
   ],
   "source": [
    "from sklearn.preprocessing import normalize\n",
    "x = [[4, 1, 2, 2], [1, 3, 9, 3], [5, 7, 5, 1]]\n",
    "normalizer = normalize(x, norm = 'l1')\n",
    "print(x)\n",
    "print()\n",
    "print(normalizer)"
   ]
  },
  {
   "cell_type": "markdown",
   "id": "86500c27",
   "metadata": {},
   "source": [
    "#### L2"
   ]
  },
  {
   "cell_type": "code",
   "execution_count": 17,
   "id": "feb89440",
   "metadata": {},
   "outputs": [
    {
     "name": "stdout",
     "output_type": "stream",
     "text": [
      "[[4, 1, 2, 2], [1, 3, 9, 3], [5, 7, 5, 1]]\n",
      "\n",
      "[[0.8 0.2 0.4 0.4]\n",
      " [0.1 0.3 0.9 0.3]\n",
      " [0.5 0.7 0.5 0.1]]\n"
     ]
    }
   ],
   "source": [
    "from sklearn.preprocessing import normalize\n",
    "x = [[4, 1, 2, 2], [1, 3, 9, 3], [5, 7, 5, 1]]\n",
    "normalizer = normalize(x, norm = 'l2')\n",
    "print(x)\n",
    "print()\n",
    "print(normalizer)"
   ]
  },
  {
   "cell_type": "code",
   "execution_count": null,
   "id": "91b11015",
   "metadata": {},
   "outputs": [],
   "source": []
  }
 ],
 "metadata": {
  "kernelspec": {
   "display_name": "Python 3 (ipykernel)",
   "language": "python",
   "name": "python3"
  },
  "language_info": {
   "codemirror_mode": {
    "name": "ipython",
    "version": 3
   },
   "file_extension": ".py",
   "mimetype": "text/x-python",
   "name": "python",
   "nbconvert_exporter": "python",
   "pygments_lexer": "ipython3",
   "version": "3.9.7"
  }
 },
 "nbformat": 4,
 "nbformat_minor": 5
}
