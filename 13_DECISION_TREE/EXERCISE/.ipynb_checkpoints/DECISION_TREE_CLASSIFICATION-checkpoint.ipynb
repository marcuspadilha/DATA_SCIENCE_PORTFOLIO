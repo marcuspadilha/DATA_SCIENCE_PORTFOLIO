{
 "cells": [
  {
   "cell_type": "markdown",
   "id": "0caed59f",
   "metadata": {},
   "source": [
    "#### Importing the data"
   ]
  },
  {
   "cell_type": "code",
   "execution_count": 1,
   "id": "7ede1a29",
   "metadata": {},
   "outputs": [
    {
     "data": {
      "text/html": [
       "<div>\n",
       "<style scoped>\n",
       "    .dataframe tbody tr th:only-of-type {\n",
       "        vertical-align: middle;\n",
       "    }\n",
       "\n",
       "    .dataframe tbody tr th {\n",
       "        vertical-align: top;\n",
       "    }\n",
       "\n",
       "    .dataframe thead th {\n",
       "        text-align: right;\n",
       "    }\n",
       "</style>\n",
       "<table border=\"1\" class=\"dataframe\">\n",
       "  <thead>\n",
       "    <tr style=\"text-align: right;\">\n",
       "      <th></th>\n",
       "      <th>pelvic_incidence</th>\n",
       "      <th>pelvic_tilt numeric</th>\n",
       "      <th>lumbar_lordosis_angle</th>\n",
       "      <th>sacral_slope</th>\n",
       "      <th>pelvic_radius</th>\n",
       "      <th>degree_spondylolisthesis</th>\n",
       "      <th>class</th>\n",
       "    </tr>\n",
       "  </thead>\n",
       "  <tbody>\n",
       "    <tr>\n",
       "      <th>0</th>\n",
       "      <td>63.027818</td>\n",
       "      <td>22.552586</td>\n",
       "      <td>39.609117</td>\n",
       "      <td>40.475232</td>\n",
       "      <td>98.672917</td>\n",
       "      <td>-0.254400</td>\n",
       "      <td>Abnormal</td>\n",
       "    </tr>\n",
       "    <tr>\n",
       "      <th>1</th>\n",
       "      <td>39.056951</td>\n",
       "      <td>10.060991</td>\n",
       "      <td>25.015378</td>\n",
       "      <td>28.995960</td>\n",
       "      <td>114.405425</td>\n",
       "      <td>4.564259</td>\n",
       "      <td>Abnormal</td>\n",
       "    </tr>\n",
       "    <tr>\n",
       "      <th>2</th>\n",
       "      <td>68.832021</td>\n",
       "      <td>22.218482</td>\n",
       "      <td>50.092194</td>\n",
       "      <td>46.613539</td>\n",
       "      <td>105.985135</td>\n",
       "      <td>-3.530317</td>\n",
       "      <td>Abnormal</td>\n",
       "    </tr>\n",
       "    <tr>\n",
       "      <th>3</th>\n",
       "      <td>69.297008</td>\n",
       "      <td>24.652878</td>\n",
       "      <td>44.311238</td>\n",
       "      <td>44.644130</td>\n",
       "      <td>101.868495</td>\n",
       "      <td>11.211523</td>\n",
       "      <td>Abnormal</td>\n",
       "    </tr>\n",
       "    <tr>\n",
       "      <th>4</th>\n",
       "      <td>49.712859</td>\n",
       "      <td>9.652075</td>\n",
       "      <td>28.317406</td>\n",
       "      <td>40.060784</td>\n",
       "      <td>108.168725</td>\n",
       "      <td>7.918501</td>\n",
       "      <td>Abnormal</td>\n",
       "    </tr>\n",
       "    <tr>\n",
       "      <th>...</th>\n",
       "      <td>...</td>\n",
       "      <td>...</td>\n",
       "      <td>...</td>\n",
       "      <td>...</td>\n",
       "      <td>...</td>\n",
       "      <td>...</td>\n",
       "      <td>...</td>\n",
       "    </tr>\n",
       "    <tr>\n",
       "      <th>305</th>\n",
       "      <td>47.903565</td>\n",
       "      <td>13.616688</td>\n",
       "      <td>36.000000</td>\n",
       "      <td>34.286877</td>\n",
       "      <td>117.449062</td>\n",
       "      <td>-4.245395</td>\n",
       "      <td>Normal</td>\n",
       "    </tr>\n",
       "    <tr>\n",
       "      <th>306</th>\n",
       "      <td>53.936748</td>\n",
       "      <td>20.721496</td>\n",
       "      <td>29.220534</td>\n",
       "      <td>33.215251</td>\n",
       "      <td>114.365845</td>\n",
       "      <td>-0.421010</td>\n",
       "      <td>Normal</td>\n",
       "    </tr>\n",
       "    <tr>\n",
       "      <th>307</th>\n",
       "      <td>61.446597</td>\n",
       "      <td>22.694968</td>\n",
       "      <td>46.170347</td>\n",
       "      <td>38.751628</td>\n",
       "      <td>125.670725</td>\n",
       "      <td>-2.707880</td>\n",
       "      <td>Normal</td>\n",
       "    </tr>\n",
       "    <tr>\n",
       "      <th>308</th>\n",
       "      <td>45.252792</td>\n",
       "      <td>8.693157</td>\n",
       "      <td>41.583126</td>\n",
       "      <td>36.559635</td>\n",
       "      <td>118.545842</td>\n",
       "      <td>0.214750</td>\n",
       "      <td>Normal</td>\n",
       "    </tr>\n",
       "    <tr>\n",
       "      <th>309</th>\n",
       "      <td>33.841641</td>\n",
       "      <td>5.073991</td>\n",
       "      <td>36.641233</td>\n",
       "      <td>28.767649</td>\n",
       "      <td>123.945244</td>\n",
       "      <td>-0.199249</td>\n",
       "      <td>Normal</td>\n",
       "    </tr>\n",
       "  </tbody>\n",
       "</table>\n",
       "<p>310 rows × 7 columns</p>\n",
       "</div>"
      ],
      "text/plain": [
       "     pelvic_incidence  pelvic_tilt numeric  lumbar_lordosis_angle  \\\n",
       "0           63.027818            22.552586              39.609117   \n",
       "1           39.056951            10.060991              25.015378   \n",
       "2           68.832021            22.218482              50.092194   \n",
       "3           69.297008            24.652878              44.311238   \n",
       "4           49.712859             9.652075              28.317406   \n",
       "..                ...                  ...                    ...   \n",
       "305         47.903565            13.616688              36.000000   \n",
       "306         53.936748            20.721496              29.220534   \n",
       "307         61.446597            22.694968              46.170347   \n",
       "308         45.252792             8.693157              41.583126   \n",
       "309         33.841641             5.073991              36.641233   \n",
       "\n",
       "     sacral_slope  pelvic_radius  degree_spondylolisthesis     class  \n",
       "0       40.475232      98.672917                 -0.254400  Abnormal  \n",
       "1       28.995960     114.405425                  4.564259  Abnormal  \n",
       "2       46.613539     105.985135                 -3.530317  Abnormal  \n",
       "3       44.644130     101.868495                 11.211523  Abnormal  \n",
       "4       40.060784     108.168725                  7.918501  Abnormal  \n",
       "..            ...            ...                       ...       ...  \n",
       "305     34.286877     117.449062                 -4.245395    Normal  \n",
       "306     33.215251     114.365845                 -0.421010    Normal  \n",
       "307     38.751628     125.670725                 -2.707880    Normal  \n",
       "308     36.559635     118.545842                  0.214750    Normal  \n",
       "309     28.767649     123.945244                 -0.199249    Normal  \n",
       "\n",
       "[310 rows x 7 columns]"
      ]
     },
     "execution_count": 1,
     "metadata": {},
     "output_type": "execute_result"
    }
   ],
   "source": [
    "import pandas as pd\n",
    "data = pd.read_csv(r\"C:\\Users\\Marcus Padilha\\Desktop\\MACHINE_LEARNING\\DATABASES\\07_BIOMECHANICAL_FEATURE_DATASET\\column_2C_weka.csv\")\n",
    "data"
   ]
  },
  {
   "cell_type": "markdown",
   "id": "b1cae85d",
   "metadata": {},
   "source": [
    "#### Treating the data"
   ]
  },
  {
   "cell_type": "code",
   "execution_count": 2,
   "id": "adee5e84",
   "metadata": {},
   "outputs": [],
   "source": [
    "data['class'].replace(['Normal','Abnormal'],[0,1], inplace = True)"
   ]
  },
  {
   "cell_type": "markdown",
   "id": "0e05625a",
   "metadata": {},
   "source": [
    "#### Spliting the data"
   ]
  },
  {
   "cell_type": "code",
   "execution_count": 3,
   "id": "38ffa8d5",
   "metadata": {},
   "outputs": [],
   "source": [
    "y = data['class']\n",
    "x = data.drop('class', axis = 1)"
   ]
  },
  {
   "cell_type": "markdown",
   "id": "de84267c",
   "metadata": {},
   "source": [
    "#### Normalizing the data"
   ]
  },
  {
   "cell_type": "code",
   "execution_count": 4,
   "id": "fd96f72d",
   "metadata": {},
   "outputs": [],
   "source": [
    "from sklearn.preprocessing import MinMaxScaler\n",
    "normalize = MinMaxScaler(feature_range = (0, 1))\n",
    "x_norm = normalize.fit_transform(x)"
   ]
  },
  {
   "cell_type": "markdown",
   "id": "95b9dff9",
   "metadata": {},
   "source": [
    "#### Importing the libraries"
   ]
  },
  {
   "cell_type": "code",
   "execution_count": 5,
   "id": "8885791c",
   "metadata": {},
   "outputs": [],
   "source": [
    "from sklearn.tree import DecisionTreeClassifier\n",
    "from sklearn.model_selection import cross_val_score\n",
    "from sklearn.model_selection import StratifiedKFold\n",
    "from sklearn.model_selection import train_test_split\n",
    "from sklearn.metrics import confusion_matrix\n",
    "from sklearn.metrics import roc_curve\n",
    "import matplotlib.pyplot as plt\n",
    "from sklearn.metrics import roc_auc_score\n",
    "from sklearn.metrics import f1_score"
   ]
  },
  {
   "cell_type": "code",
   "execution_count": 6,
   "id": "9de07001",
   "metadata": {},
   "outputs": [],
   "source": [
    "import numpy as np\n",
    "from sklearn.model_selection import GridSearchCV"
   ]
  },
  {
   "cell_type": "markdown",
   "id": "d85332ca",
   "metadata": {},
   "source": [
    "#### Setting parameter variations"
   ]
  },
  {
   "cell_type": "code",
   "execution_count": 7,
   "id": "b8375638",
   "metadata": {},
   "outputs": [],
   "source": [
    "min_splits = np.array([2,3,4,5,6,7,8])\n",
    "max_level = np.array([3,4,5,6])\n",
    "algorithm = ['gini', 'entropy']\n",
    "grid_values = {'min_samples_split':min_splits, 'max_depth':max_level, 'criterion': algorithm}"
   ]
  },
  {
   "cell_type": "markdown",
   "id": "3409ccc0",
   "metadata": {},
   "source": [
    "#### Checking the best parameters"
   ]
  },
  {
   "cell_type": "code",
   "execution_count": 8,
   "id": "2ef1a464",
   "metadata": {},
   "outputs": [],
   "source": [
    "model = DecisionTreeClassifier()"
   ]
  },
  {
   "cell_type": "code",
   "execution_count": 9,
   "id": "d587b639",
   "metadata": {},
   "outputs": [
    {
     "data": {
      "text/plain": [
       "GridSearchCV(cv=5, estimator=DecisionTreeClassifier(),\n",
       "             param_grid={'criterion': ['gini', 'entropy'],\n",
       "                         'max_depth': array([3, 4, 5, 6]),\n",
       "                         'min_samples_split': array([2, 3, 4, 5, 6, 7, 8])})"
      ]
     },
     "execution_count": 9,
     "metadata": {},
     "output_type": "execute_result"
    }
   ],
   "source": [
    "gridDecisionTree = GridSearchCV(estimator = model,  param_grid = grid_values, cv = 5)\n",
    "gridDecisionTree.fit(x, y)"
   ]
  },
  {
   "cell_type": "code",
   "execution_count": 10,
   "id": "f343eb26",
   "metadata": {},
   "outputs": [
    {
     "name": "stdout",
     "output_type": "stream",
     "text": [
      "Min Split: 2\n",
      "Max Depth: 5\n",
      "Selected Algorithm: entropy\n",
      "Accuracy: 0.7709677419354839\n"
     ]
    }
   ],
   "source": [
    "print(f'Min Split: {gridDecisionTree.best_estimator_.min_samples_split}')\n",
    "print(f'Max Depth: {gridDecisionTree.best_estimator_.max_depth}')\n",
    "print(f'Selected Algorithm: {gridDecisionTree.best_estimator_.criterion}')\n",
    "print(f'Accuracy: {gridDecisionTree.best_score_}')"
   ]
  },
  {
   "cell_type": "markdown",
   "id": "582734c4",
   "metadata": {},
   "source": [
    "#### Separating the data for training and testing"
   ]
  },
  {
   "cell_type": "code",
   "execution_count": 11,
   "id": "502c003c",
   "metadata": {},
   "outputs": [],
   "source": [
    "x_norm_train, x_norm_test, y_train, y_test = train_test_split(x_norm, y, test_size = 0.3)"
   ]
  },
  {
   "cell_type": "markdown",
   "id": "7a42e3fd",
   "metadata": {},
   "source": [
    "#### Creating the model with the best parameters"
   ]
  },
  {
   "cell_type": "code",
   "execution_count": 12,
   "id": "dda668fa",
   "metadata": {},
   "outputs": [],
   "source": [
    "model = DecisionTreeClassifier(criterion = 'entropy', min_samples_split = 2, max_depth = 5)"
   ]
  },
  {
   "cell_type": "markdown",
   "id": "4311b9c4",
   "metadata": {},
   "source": [
    "#### Training the model"
   ]
  },
  {
   "cell_type": "code",
   "execution_count": 13,
   "id": "feccefa0",
   "metadata": {},
   "outputs": [
    {
     "data": {
      "text/plain": [
       "DecisionTreeClassifier(criterion='entropy', max_depth=5)"
      ]
     },
     "execution_count": 13,
     "metadata": {},
     "output_type": "execute_result"
    }
   ],
   "source": [
    "model.fit(x_norm_train, y_train)"
   ]
  },
  {
   "cell_type": "markdown",
   "id": "a0ef5b0b",
   "metadata": {},
   "source": [
    "#### Evaluating the algorithm's accuracy"
   ]
  },
  {
   "cell_type": "code",
   "execution_count": 14,
   "id": "cd42aa0f",
   "metadata": {},
   "outputs": [
    {
     "name": "stdout",
     "output_type": "stream",
     "text": [
      "Accuracy: 0.7849462365591398\n"
     ]
    }
   ],
   "source": [
    "result = model.score(x_norm_test, y_test)\n",
    "print(f'Accuracy: {result}')"
   ]
  },
  {
   "cell_type": "markdown",
   "id": "e6728fef",
   "metadata": {},
   "source": [
    "#### Evaluating the prediction of the model"
   ]
  },
  {
   "cell_type": "code",
   "execution_count": 15,
   "id": "d2d98bb5",
   "metadata": {},
   "outputs": [
    {
     "name": "stdout",
     "output_type": "stream",
     "text": [
      "[1 0 1 1 1 0 1 1 1 0 0 1 1 1 1 1 0 1 1 1 1 0 1 1 1 1 0 1 0 1 1 1 1 0 1 1 1\n",
      " 1 1 1 1 1 0 0 0 1 0 0 1 0 1 1 1 0 0 1 1 0 1 1 1 1 0 1 1 0 1 1 1 1 0 1 0 1\n",
      " 1 1 1 0 0 1 1 0 1 1 1 0 0 1 0 1 1 1 1]\n"
     ]
    }
   ],
   "source": [
    "prediction = model.predict(x_norm_test)\n",
    "print(prediction)"
   ]
  },
  {
   "cell_type": "markdown",
   "id": "b406cfe1",
   "metadata": {},
   "source": [
    "#### Evaluating the confusion matrix"
   ]
  },
  {
   "cell_type": "code",
   "execution_count": 16,
   "id": "221a2f22",
   "metadata": {},
   "outputs": [
    {
     "name": "stdout",
     "output_type": "stream",
     "text": [
      "[[19 11]\n",
      " [ 9 54]]\n"
     ]
    }
   ],
   "source": [
    "matrix = confusion_matrix(y_test, prediction)\n",
    "print(matrix)"
   ]
  },
  {
   "cell_type": "markdown",
   "id": "2beabb71",
   "metadata": {},
   "source": [
    "#### Evaluating the Area under the ROC curve"
   ]
  },
  {
   "cell_type": "code",
   "execution_count": 17,
   "id": "7a346daa",
   "metadata": {},
   "outputs": [
    {
     "name": "stdout",
     "output_type": "stream",
     "text": [
      "[1.         0.0625     1.         1.         1.         0.\n",
      " 0.61538462 1.         1.         0.         0.         1.\n",
      " 1.         1.         1.         1.         0.         1.\n",
      " 1.         1.         1.         0.41176471 1.         1.\n",
      " 1.         1.         0.         1.         0.0625     1.\n",
      " 1.         1.         1.         0.         1.         1.\n",
      " 1.         1.         1.         1.         1.         0.61538462\n",
      " 0.         0.         0.0625     1.         0.         0.41176471\n",
      " 1.         0.         0.61538462 0.61538462 1.         0.\n",
      " 0.         1.         1.         0.         1.         0.61538462\n",
      " 1.         1.         0.         1.         1.         0.\n",
      " 1.         1.         1.         0.61538462 0.41176471 0.61538462\n",
      " 0.25       1.         1.         1.         1.         0.\n",
      " 0.         1.         1.         0.41176471 1.         1.\n",
      " 1.         0.         0.0625     1.         0.         1.\n",
      " 1.         1.         0.61538462]\n"
     ]
    }
   ],
   "source": [
    "predictproba = model.predict_proba(x_norm_test)\n",
    "probability = predictproba[:,1]\n",
    "print(probability)"
   ]
  },
  {
   "cell_type": "code",
   "execution_count": 18,
   "id": "8d50ab41",
   "metadata": {},
   "outputs": [],
   "source": [
    "fpr, tpr, thresholds = roc_curve (y_test, probability)"
   ]
  },
  {
   "cell_type": "code",
   "execution_count": 19,
   "id": "a5e1b60c",
   "metadata": {},
   "outputs": [
    {
     "name": "stdout",
     "output_type": "stream",
     "text": [
      "True positive rate: [0.         0.80952381 0.85714286 0.9047619  0.92063492 0.93650794\n",
      " 1.        ]\n",
      "False positive rate: [0.         0.2        0.36666667 0.4        0.4        0.5\n",
      " 1.        ]\n",
      "Thresholds: [2.         1.         0.61538462 0.41176471 0.25       0.0625\n",
      " 0.        ]\n"
     ]
    }
   ],
   "source": [
    "print(f'True positive rate: {tpr}')\n",
    "print(f'False positive rate: {fpr}')\n",
    "print(f'Thresholds: {thresholds}')"
   ]
  },
  {
   "cell_type": "code",
   "execution_count": 20,
   "id": "8b37e780",
   "metadata": {},
   "outputs": [
    {
     "data": {
      "image/png": "[encoded data removed]",
      "text/plain": [
       "<Figure size 432x288 with 1 Axes>"
      ]
     },
     "metadata": {
      "needs_background": "light"
     },
     "output_type": "display_data"
    }
   ],
   "source": [
    "plt.scatter(fpr, tpr)\n",
    "plt.show()"
   ]
  },
  {
   "cell_type": "code",
   "execution_count": 21,
   "id": "fd17a14b",
   "metadata": {},
   "outputs": [
    {
     "name": "stdout",
     "output_type": "stream",
     "text": [
      "Area under the curve: 0.8261904761904761\n"
     ]
    }
   ],
   "source": [
    "score = roc_auc_score(y_test, probability)\n",
    "print(f'Area under the curve: {score}')"
   ]
  },
  {
   "cell_type": "markdown",
   "id": "0d06823b",
   "metadata": {},
   "source": [
    "#### Evaluating the F1 score"
   ]
  },
  {
   "cell_type": "code",
   "execution_count": 22,
   "id": "4e402803",
   "metadata": {},
   "outputs": [
    {
     "name": "stdout",
     "output_type": "stream",
     "text": [
      "F1 Score: 0.84375\n"
     ]
    }
   ],
   "source": [
    "f1 =  f1_score(y_test, prediction)\n",
    "print(f'F1 Score: {f1}')"
   ]
  },
  {
   "cell_type": "code",
   "execution_count": null,
   "id": "60720fae",
   "metadata": {},
   "outputs": [],
   "source": []
  }
 ],
 "metadata": {
  "kernelspec": {
   "display_name": "Python 3 (ipykernel)",
   "language": "python",
   "name": "python3"
  },
  "language_info": {
   "codemirror_mode": {
    "name": "ipython",
    "version": 3
   },
   "file_extension": ".py",
   "mimetype": "text/x-python",
   "name": "python",
   "nbconvert_exporter": "python",
   "pygments_lexer": "ipython3",
   "version": "3.9.12"
  }
 },
 "nbformat": 4,
 "nbformat_minor": 5
}
