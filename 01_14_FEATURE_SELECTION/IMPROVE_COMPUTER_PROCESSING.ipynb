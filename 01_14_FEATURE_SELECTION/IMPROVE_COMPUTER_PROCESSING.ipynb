{
 "cells": [
  {
   "cell_type": "code",
   "execution_count": 15,
   "id": "ab1ba882",
   "metadata": {},
   "outputs": [
    {
     "name": "stderr",
     "output_type": "stream",
     "text": [
      "C:\\Users\\marcu\\anaconda3\\lib\\site-packages\\IPython\\core\\interactiveshell.py:3444: FutureWarning: In a future version of pandas all arguments of read_csv except for the argument 'filepath_or_buffer' will be keyword-only\n",
      "  exec(code_obj, self.user_global_ns, self.user_ns)\n"
     ]
    },
    {
     "data": {
      "text/html": [
       "<div>\n",
       "<style scoped>\n",
       "    .dataframe tbody tr th:only-of-type {\n",
       "        vertical-align: middle;\n",
       "    }\n",
       "\n",
       "    .dataframe tbody tr th {\n",
       "        vertical-align: top;\n",
       "    }\n",
       "\n",
       "    .dataframe thead th {\n",
       "        text-align: right;\n",
       "    }\n",
       "</style>\n",
       "<table border=\"1\" class=\"dataframe\">\n",
       "  <thead>\n",
       "    <tr style=\"text-align: right;\">\n",
       "      <th></th>\n",
       "      <th>Serial No.,GRE Score,TOEFL Score,University Rating,SOP,LOR ,CGPA,Research,Chance of Admit</th>\n",
       "    </tr>\n",
       "  </thead>\n",
       "  <tbody>\n",
       "    <tr>\n",
       "      <th>0</th>\n",
       "      <td>1,337,118,4,4.5,4.5,9.65,1,0.92</td>\n",
       "    </tr>\n",
       "    <tr>\n",
       "      <th>1</th>\n",
       "      <td>2,324,107,4,4,4.5,8.87,1,0.76</td>\n",
       "    </tr>\n",
       "    <tr>\n",
       "      <th>2</th>\n",
       "      <td>3,316,104,3,3,3.5,8,1,0.72</td>\n",
       "    </tr>\n",
       "    <tr>\n",
       "      <th>3</th>\n",
       "      <td>4,322,110,3,3.5,2.5,8.67,1,0.8</td>\n",
       "    </tr>\n",
       "    <tr>\n",
       "      <th>4</th>\n",
       "      <td>5,314,103,2,2,3,8.21,0,0.65</td>\n",
       "    </tr>\n",
       "    <tr>\n",
       "      <th>...</th>\n",
       "      <td>...</td>\n",
       "    </tr>\n",
       "    <tr>\n",
       "      <th>395</th>\n",
       "      <td>396,324,110,3,3.5,3.5,9.04,1,0.82</td>\n",
       "    </tr>\n",
       "    <tr>\n",
       "      <th>396</th>\n",
       "      <td>397,325,107,3,3,3.5,9.11,1,0.84</td>\n",
       "    </tr>\n",
       "    <tr>\n",
       "      <th>397</th>\n",
       "      <td>398,330,116,4,5,4.5,9.45,1,0.91</td>\n",
       "    </tr>\n",
       "    <tr>\n",
       "      <th>398</th>\n",
       "      <td>399,312,103,3,3.5,4,8.78,0,0.67</td>\n",
       "    </tr>\n",
       "    <tr>\n",
       "      <th>399</th>\n",
       "      <td>400,333,117,4,5,4,9.66,1,0.95</td>\n",
       "    </tr>\n",
       "  </tbody>\n",
       "</table>\n",
       "<p>400 rows × 1 columns</p>\n",
       "</div>"
      ],
      "text/plain": [
       "    Serial No.,GRE Score,TOEFL Score,University Rating,SOP,LOR ,CGPA,Research,Chance of Admit \n",
       "0                      1,337,118,4,4.5,4.5,9.65,1,0.92                                        \n",
       "1                        2,324,107,4,4,4.5,8.87,1,0.76                                        \n",
       "2                           3,316,104,3,3,3.5,8,1,0.72                                        \n",
       "3                       4,322,110,3,3.5,2.5,8.67,1,0.8                                        \n",
       "4                          5,314,103,2,2,3,8.21,0,0.65                                        \n",
       "..                                                 ...                                        \n",
       "395                  396,324,110,3,3.5,3.5,9.04,1,0.82                                        \n",
       "396                    397,325,107,3,3,3.5,9.11,1,0.84                                        \n",
       "397                    398,330,116,4,5,4.5,9.45,1,0.91                                        \n",
       "398                    399,312,103,3,3.5,4,8.78,0,0.67                                        \n",
       "399                      400,333,117,4,5,4,9.66,1,0.95                                        \n",
       "\n",
       "[400 rows x 1 columns]"
      ]
     },
     "execution_count": 15,
     "metadata": {},
     "output_type": "execute_result"
    }
   ],
   "source": [
    "import pandas as pd\n",
    "data = pd.read_csv(r'C:\\Users\\marcu\\Desktop\\MACHINE_LEARNING\\DATABASES\\COLLEGE_ADMISSION_DATASET\\Admission_Predict.csv')\n",
    "data"
   ]
  },
  {
   "cell_type": "code",
   "execution_count": 10,
   "id": "04cbdaad",
   "metadata": {},
   "outputs": [],
   "source": [
    "y = data['Chance of Admit ']\n",
    "x = data.drop('Chance of Admit ', axis =1)"
   ]
  },
  {
   "cell_type": "code",
   "execution_count": 11,
   "id": "cc187281",
   "metadata": {},
   "outputs": [],
   "source": [
    "from sklearn.model_selection import GridSearchCV\n",
    "from sklearn.linear_model import ElasticNet"
   ]
  },
  {
   "cell_type": "code",
   "execution_count": 12,
   "id": "2bdd9a8d",
   "metadata": {},
   "outputs": [],
   "source": [
    "values = {'alpha':[0.1, 0.5 ,1, 2, 5, 10, 25, 50, 100, 150, 200, 300, 500, 750, 1000, 1500, 2000, 3000, 5000],\\\n",
    "          'l1_ratio':[0.02, 0.03, 0.05, 0.1, 0.2, 0.3, 0.4, 0.5, 0.6,0.7, 0.8, 0.9,1]}"
   ]
  },
  {
   "cell_type": "markdown",
   "id": "1be8301d",
   "metadata": {},
   "source": [
    "### Most important: n_jobs = -1"
   ]
  },
  {
   "cell_type": "code",
   "execution_count": 13,
   "id": "c1025346",
   "metadata": {},
   "outputs": [
    {
     "data": {
      "text/plain": [
       "GridSearchCV(cv=5, estimator=ElasticNet(), n_jobs=-1,\n",
       "             param_grid={'alpha': [0.1, 0.5, 1, 2, 5, 10, 25, 50, 100, 150, 200,\n",
       "                                   300, 500, 750, 1000, 1500, 2000, 3000,\n",
       "                                   5000],\n",
       "                         'l1_ratio': [0.02, 0.03, 0.05, 0.1, 0.2, 0.3, 0.4, 0.5,\n",
       "                                      0.6, 0.7, 0.8, 0.9, 1]})"
      ]
     },
     "execution_count": 13,
     "metadata": {},
     "output_type": "execute_result"
    }
   ],
   "source": [
    "model = ElasticNet()\n",
    "search = GridSearchCV(estimator = model, param_grid = values, cv = 5, n_jobs = -1)\n",
    "search.fit(x,y)"
   ]
  },
  {
   "cell_type": "code",
   "execution_count": 14,
   "id": "8d348bfe",
   "metadata": {},
   "outputs": [
    {
     "name": "stdout",
     "output_type": "stream",
     "text": [
      "Best score:  0.7510290719875717\n",
      "Best alpha:  0.1\n",
      "Best l1_ratio:  0.02\n"
     ]
    }
   ],
   "source": [
    "print('Best score: ', search.best_score_)\n",
    "print('Best alpha: ', search.best_estimator_.alpha)\n",
    "print('Best l1_ratio: ', search.best_estimator_.l1_ratio)"
   ]
  },
  {
   "cell_type": "code",
   "execution_count": null,
   "id": "4cb07cd6",
   "metadata": {},
   "outputs": [],
   "source": []
  }
 ],
 "metadata": {
  "kernelspec": {
   "display_name": "Python 3 (ipykernel)",
   "language": "python",
   "name": "python3"
  },
  "language_info": {
   "codemirror_mode": {
    "name": "ipython",
    "version": 3
   },
   "file_extension": ".py",
   "mimetype": "text/x-python",
   "name": "python",
   "nbconvert_exporter": "python",
   "pygments_lexer": "ipython3",
   "version": "3.9.7"
  }
 },
 "nbformat": 4,
 "nbformat_minor": 5
}
